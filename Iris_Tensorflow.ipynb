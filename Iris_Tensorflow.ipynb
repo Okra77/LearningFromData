{
  "nbformat": 4,
  "nbformat_minor": 0,
  "metadata": {
    "colab": {
      "provenance": [],
      "authorship_tag": "ABX9TyNOGAcM9//6aIvgRdUdkA6X",
      "include_colab_link": true
    },
    "kernelspec": {
      "name": "python3",
      "display_name": "Python 3"
    },
    "language_info": {
      "name": "python"
    }
  },
  "cells": [
    {
      "cell_type": "markdown",
      "metadata": {
        "id": "view-in-github",
        "colab_type": "text"
      },
      "source": [
        "<a href=\"https://colab.research.google.com/github/Okra77/Iris_LearningFromData/blob/main/Iris_Tensorflow.ipynb\" target=\"_parent\"><img src=\"https://colab.research.google.com/assets/colab-badge.svg\" alt=\"Open In Colab\"/></a>"
      ]
    },
    {
      "cell_type": "code",
      "source": [
        "import tensorflow as tf\n",
        "import pandas as pd\n",
        "from sklearn.model_selection import train_test_split"
      ],
      "metadata": {
        "id": "oKxo2rM4MHW3"
      },
      "execution_count": null,
      "outputs": []
    },
    {
      "cell_type": "code",
      "source": [
        "df = pd.read_csv('https://archive.ics.uci.edu/ml/machine-learning-databases/iris/iris.data', header=None)\n",
        "df"
      ],
      "metadata": {
        "colab": {
          "base_uri": "https://localhost:8080/",
          "height": 424
        },
        "id": "lDix3sweNjd0",
        "outputId": "fffeedbc-2463-40a8-d6e3-97be99a30ee0"
      },
      "execution_count": null,
      "outputs": [
        {
          "output_type": "execute_result",
          "data": {
            "text/plain": [
              "       0    1    2    3               4\n",
              "0    5.1  3.5  1.4  0.2     Iris-setosa\n",
              "1    4.9  3.0  1.4  0.2     Iris-setosa\n",
              "2    4.7  3.2  1.3  0.2     Iris-setosa\n",
              "3    4.6  3.1  1.5  0.2     Iris-setosa\n",
              "4    5.0  3.6  1.4  0.2     Iris-setosa\n",
              "..   ...  ...  ...  ...             ...\n",
              "145  6.7  3.0  5.2  2.3  Iris-virginica\n",
              "146  6.3  2.5  5.0  1.9  Iris-virginica\n",
              "147  6.5  3.0  5.2  2.0  Iris-virginica\n",
              "148  6.2  3.4  5.4  2.3  Iris-virginica\n",
              "149  5.9  3.0  5.1  1.8  Iris-virginica\n",
              "\n",
              "[150 rows x 5 columns]"
            ],
            "text/html": [
              "\n",
              "  <div id=\"df-7c6d2bfe-a562-4c09-8592-4b91879a05c2\">\n",
              "    <div class=\"colab-df-container\">\n",
              "      <div>\n",
              "<style scoped>\n",
              "    .dataframe tbody tr th:only-of-type {\n",
              "        vertical-align: middle;\n",
              "    }\n",
              "\n",
              "    .dataframe tbody tr th {\n",
              "        vertical-align: top;\n",
              "    }\n",
              "\n",
              "    .dataframe thead th {\n",
              "        text-align: right;\n",
              "    }\n",
              "</style>\n",
              "<table border=\"1\" class=\"dataframe\">\n",
              "  <thead>\n",
              "    <tr style=\"text-align: right;\">\n",
              "      <th></th>\n",
              "      <th>0</th>\n",
              "      <th>1</th>\n",
              "      <th>2</th>\n",
              "      <th>3</th>\n",
              "      <th>4</th>\n",
              "    </tr>\n",
              "  </thead>\n",
              "  <tbody>\n",
              "    <tr>\n",
              "      <th>0</th>\n",
              "      <td>5.1</td>\n",
              "      <td>3.5</td>\n",
              "      <td>1.4</td>\n",
              "      <td>0.2</td>\n",
              "      <td>Iris-setosa</td>\n",
              "    </tr>\n",
              "    <tr>\n",
              "      <th>1</th>\n",
              "      <td>4.9</td>\n",
              "      <td>3.0</td>\n",
              "      <td>1.4</td>\n",
              "      <td>0.2</td>\n",
              "      <td>Iris-setosa</td>\n",
              "    </tr>\n",
              "    <tr>\n",
              "      <th>2</th>\n",
              "      <td>4.7</td>\n",
              "      <td>3.2</td>\n",
              "      <td>1.3</td>\n",
              "      <td>0.2</td>\n",
              "      <td>Iris-setosa</td>\n",
              "    </tr>\n",
              "    <tr>\n",
              "      <th>3</th>\n",
              "      <td>4.6</td>\n",
              "      <td>3.1</td>\n",
              "      <td>1.5</td>\n",
              "      <td>0.2</td>\n",
              "      <td>Iris-setosa</td>\n",
              "    </tr>\n",
              "    <tr>\n",
              "      <th>4</th>\n",
              "      <td>5.0</td>\n",
              "      <td>3.6</td>\n",
              "      <td>1.4</td>\n",
              "      <td>0.2</td>\n",
              "      <td>Iris-setosa</td>\n",
              "    </tr>\n",
              "    <tr>\n",
              "      <th>...</th>\n",
              "      <td>...</td>\n",
              "      <td>...</td>\n",
              "      <td>...</td>\n",
              "      <td>...</td>\n",
              "      <td>...</td>\n",
              "    </tr>\n",
              "    <tr>\n",
              "      <th>145</th>\n",
              "      <td>6.7</td>\n",
              "      <td>3.0</td>\n",
              "      <td>5.2</td>\n",
              "      <td>2.3</td>\n",
              "      <td>Iris-virginica</td>\n",
              "    </tr>\n",
              "    <tr>\n",
              "      <th>146</th>\n",
              "      <td>6.3</td>\n",
              "      <td>2.5</td>\n",
              "      <td>5.0</td>\n",
              "      <td>1.9</td>\n",
              "      <td>Iris-virginica</td>\n",
              "    </tr>\n",
              "    <tr>\n",
              "      <th>147</th>\n",
              "      <td>6.5</td>\n",
              "      <td>3.0</td>\n",
              "      <td>5.2</td>\n",
              "      <td>2.0</td>\n",
              "      <td>Iris-virginica</td>\n",
              "    </tr>\n",
              "    <tr>\n",
              "      <th>148</th>\n",
              "      <td>6.2</td>\n",
              "      <td>3.4</td>\n",
              "      <td>5.4</td>\n",
              "      <td>2.3</td>\n",
              "      <td>Iris-virginica</td>\n",
              "    </tr>\n",
              "    <tr>\n",
              "      <th>149</th>\n",
              "      <td>5.9</td>\n",
              "      <td>3.0</td>\n",
              "      <td>5.1</td>\n",
              "      <td>1.8</td>\n",
              "      <td>Iris-virginica</td>\n",
              "    </tr>\n",
              "  </tbody>\n",
              "</table>\n",
              "<p>150 rows × 5 columns</p>\n",
              "</div>\n",
              "      <button class=\"colab-df-convert\" onclick=\"convertToInteractive('df-7c6d2bfe-a562-4c09-8592-4b91879a05c2')\"\n",
              "              title=\"Convert this dataframe to an interactive table.\"\n",
              "              style=\"display:none;\">\n",
              "        \n",
              "  <svg xmlns=\"http://www.w3.org/2000/svg\" height=\"24px\"viewBox=\"0 0 24 24\"\n",
              "       width=\"24px\">\n",
              "    <path d=\"M0 0h24v24H0V0z\" fill=\"none\"/>\n",
              "    <path d=\"M18.56 5.44l.94 2.06.94-2.06 2.06-.94-2.06-.94-.94-2.06-.94 2.06-2.06.94zm-11 1L8.5 8.5l.94-2.06 2.06-.94-2.06-.94L8.5 2.5l-.94 2.06-2.06.94zm10 10l.94 2.06.94-2.06 2.06-.94-2.06-.94-.94-2.06-.94 2.06-2.06.94z\"/><path d=\"M17.41 7.96l-1.37-1.37c-.4-.4-.92-.59-1.43-.59-.52 0-1.04.2-1.43.59L10.3 9.45l-7.72 7.72c-.78.78-.78 2.05 0 2.83L4 21.41c.39.39.9.59 1.41.59.51 0 1.02-.2 1.41-.59l7.78-7.78 2.81-2.81c.8-.78.8-2.07 0-2.86zM5.41 20L4 18.59l7.72-7.72 1.47 1.35L5.41 20z\"/>\n",
              "  </svg>\n",
              "      </button>\n",
              "      \n",
              "  <style>\n",
              "    .colab-df-container {\n",
              "      display:flex;\n",
              "      flex-wrap:wrap;\n",
              "      gap: 12px;\n",
              "    }\n",
              "\n",
              "    .colab-df-convert {\n",
              "      background-color: #E8F0FE;\n",
              "      border: none;\n",
              "      border-radius: 50%;\n",
              "      cursor: pointer;\n",
              "      display: none;\n",
              "      fill: #1967D2;\n",
              "      height: 32px;\n",
              "      padding: 0 0 0 0;\n",
              "      width: 32px;\n",
              "    }\n",
              "\n",
              "    .colab-df-convert:hover {\n",
              "      background-color: #E2EBFA;\n",
              "      box-shadow: 0px 1px 2px rgba(60, 64, 67, 0.3), 0px 1px 3px 1px rgba(60, 64, 67, 0.15);\n",
              "      fill: #174EA6;\n",
              "    }\n",
              "\n",
              "    [theme=dark] .colab-df-convert {\n",
              "      background-color: #3B4455;\n",
              "      fill: #D2E3FC;\n",
              "    }\n",
              "\n",
              "    [theme=dark] .colab-df-convert:hover {\n",
              "      background-color: #434B5C;\n",
              "      box-shadow: 0px 1px 3px 1px rgba(0, 0, 0, 0.15);\n",
              "      filter: drop-shadow(0px 1px 2px rgba(0, 0, 0, 0.3));\n",
              "      fill: #FFFFFF;\n",
              "    }\n",
              "  </style>\n",
              "\n",
              "      <script>\n",
              "        const buttonEl =\n",
              "          document.querySelector('#df-7c6d2bfe-a562-4c09-8592-4b91879a05c2 button.colab-df-convert');\n",
              "        buttonEl.style.display =\n",
              "          google.colab.kernel.accessAllowed ? 'block' : 'none';\n",
              "\n",
              "        async function convertToInteractive(key) {\n",
              "          const element = document.querySelector('#df-7c6d2bfe-a562-4c09-8592-4b91879a05c2');\n",
              "          const dataTable =\n",
              "            await google.colab.kernel.invokeFunction('convertToInteractive',\n",
              "                                                     [key], {});\n",
              "          if (!dataTable) return;\n",
              "\n",
              "          const docLinkHtml = 'Like what you see? Visit the ' +\n",
              "            '<a target=\"_blank\" href=https://colab.research.google.com/notebooks/data_table.ipynb>data table notebook</a>'\n",
              "            + ' to learn more about interactive tables.';\n",
              "          element.innerHTML = '';\n",
              "          dataTable['output_type'] = 'display_data';\n",
              "          await google.colab.output.renderOutput(dataTable, element);\n",
              "          const docLink = document.createElement('div');\n",
              "          docLink.innerHTML = docLinkHtml;\n",
              "          element.appendChild(docLink);\n",
              "        }\n",
              "      </script>\n",
              "    </div>\n",
              "  </div>\n",
              "  "
            ]
          },
          "metadata": {},
          "execution_count": 64
        }
      ]
    },
    {
      "cell_type": "code",
      "source": [
        "#將數據集分為特徵矩陣跟目標向量\n",
        "X = df.iloc[:, :4]\n",
        "y = df.iloc[:, 4]"
      ],
      "metadata": {
        "id": "25ZzGLkyNwFw"
      },
      "execution_count": null,
      "outputs": []
    },
    {
      "cell_type": "code",
      "source": [
        "#將字符串目標向量轉化為數字\n",
        "y, _ = pd.factorize(y)"
      ],
      "metadata": {
        "id": "M2zXH06DQsQ-"
      },
      "execution_count": null,
      "outputs": []
    },
    {
      "cell_type": "code",
      "source": [
        "#將目標向量轉成one-hot encoding\n",
        "y = tf.keras.utils.to_categorical(y)"
      ],
      "metadata": {
        "id": "SKaToA-LO5Xb"
      },
      "execution_count": null,
      "outputs": []
    },
    {
      "cell_type": "code",
      "source": [
        "X_train, X_test, y_train, y_test = train_test_split(X, y, test_size=0.3, random_state=42)"
      ],
      "metadata": {
        "id": "Em9NdHtQUwWh"
      },
      "execution_count": null,
      "outputs": []
    },
    {
      "cell_type": "code",
      "source": [
        "#建立模型\n",
        "model = tf.keras.Sequential()\n",
        "#添加隱藏層\n",
        "model.add(tf.keras.layers.Dense(units=10, activation='relu', input_dim=4))\n",
        "model.add(tf.keras.layers.Dense(units=10, activation='relu'))\n",
        "#添加輸出層\n",
        "model.add(tf.keras.layers.Dense(units=3, activation='softmax'))"
      ],
      "metadata": {
        "id": "6F8o_IrzRNAP"
      },
      "execution_count": null,
      "outputs": []
    },
    {
      "cell_type": "code",
      "source": [
        "#編譯模型\n",
        "model.compile(optimizer='adam',\n",
        "              loss='categorical_crossentropy',\n",
        "              metrics=['accuracy'])"
      ],
      "metadata": {
        "id": "xIhtymi8RVDK"
      },
      "execution_count": null,
      "outputs": []
    },
    {
      "cell_type": "code",
      "source": [
        "#訓練模型\n",
        "history = model.fit(X_train, y_train, epochs=50, batch_size=32, validation_data=(X_test, y_test))"
      ],
      "metadata": {
        "colab": {
          "base_uri": "https://localhost:8080/"
        },
        "id": "pD2Gv-wARZbd",
        "outputId": "d8fad39f-745f-4bfe-873b-933d388c6c6b"
      },
      "execution_count": null,
      "outputs": [
        {
          "output_type": "stream",
          "name": "stdout",
          "text": [
            "Epoch 1/50\n",
            "4/4 [==============================] - 0s 116ms/step - loss: 0.1005 - accuracy: 0.9714 - val_loss: 0.0713 - val_accuracy: 1.0000\n",
            "Epoch 2/50\n",
            "4/4 [==============================] - 0s 31ms/step - loss: 0.0979 - accuracy: 0.9810 - val_loss: 0.0649 - val_accuracy: 1.0000\n",
            "Epoch 3/50\n",
            "4/4 [==============================] - 0s 30ms/step - loss: 0.0967 - accuracy: 0.9810 - val_loss: 0.0616 - val_accuracy: 1.0000\n",
            "Epoch 4/50\n",
            "4/4 [==============================] - 0s 35ms/step - loss: 0.0997 - accuracy: 0.9714 - val_loss: 0.0608 - val_accuracy: 1.0000\n",
            "Epoch 5/50\n",
            "4/4 [==============================] - 0s 54ms/step - loss: 0.0991 - accuracy: 0.9714 - val_loss: 0.0624 - val_accuracy: 1.0000\n",
            "Epoch 6/50\n",
            "4/4 [==============================] - 0s 61ms/step - loss: 0.0973 - accuracy: 0.9714 - val_loss: 0.0644 - val_accuracy: 1.0000\n",
            "Epoch 7/50\n",
            "4/4 [==============================] - 0s 37ms/step - loss: 0.0966 - accuracy: 0.9810 - val_loss: 0.0656 - val_accuracy: 1.0000\n",
            "Epoch 8/50\n",
            "4/4 [==============================] - 0s 40ms/step - loss: 0.0968 - accuracy: 0.9810 - val_loss: 0.0643 - val_accuracy: 1.0000\n",
            "Epoch 9/50\n",
            "4/4 [==============================] - 0s 44ms/step - loss: 0.0962 - accuracy: 0.9810 - val_loss: 0.0645 - val_accuracy: 1.0000\n",
            "Epoch 10/50\n",
            "4/4 [==============================] - 0s 46ms/step - loss: 0.0960 - accuracy: 0.9810 - val_loss: 0.0638 - val_accuracy: 1.0000\n",
            "Epoch 11/50\n",
            "4/4 [==============================] - 0s 40ms/step - loss: 0.0963 - accuracy: 0.9810 - val_loss: 0.0631 - val_accuracy: 1.0000\n",
            "Epoch 12/50\n",
            "4/4 [==============================] - 0s 41ms/step - loss: 0.0952 - accuracy: 0.9714 - val_loss: 0.0596 - val_accuracy: 1.0000\n",
            "Epoch 13/50\n",
            "4/4 [==============================] - 0s 53ms/step - loss: 0.0964 - accuracy: 0.9714 - val_loss: 0.0588 - val_accuracy: 1.0000\n",
            "Epoch 14/50\n",
            "4/4 [==============================] - 0s 37ms/step - loss: 0.0967 - accuracy: 0.9714 - val_loss: 0.0601 - val_accuracy: 1.0000\n",
            "Epoch 15/50\n",
            "4/4 [==============================] - 0s 30ms/step - loss: 0.0957 - accuracy: 0.9714 - val_loss: 0.0615 - val_accuracy: 1.0000\n",
            "Epoch 16/50\n",
            "4/4 [==============================] - 0s 34ms/step - loss: 0.0947 - accuracy: 0.9810 - val_loss: 0.0626 - val_accuracy: 1.0000\n",
            "Epoch 17/50\n",
            "4/4 [==============================] - 0s 20ms/step - loss: 0.0944 - accuracy: 0.9810 - val_loss: 0.0636 - val_accuracy: 1.0000\n",
            "Epoch 18/50\n",
            "4/4 [==============================] - 0s 28ms/step - loss: 0.0941 - accuracy: 0.9810 - val_loss: 0.0613 - val_accuracy: 1.0000\n",
            "Epoch 19/50\n",
            "4/4 [==============================] - 0s 19ms/step - loss: 0.0947 - accuracy: 0.9714 - val_loss: 0.0602 - val_accuracy: 1.0000\n",
            "Epoch 20/50\n",
            "4/4 [==============================] - 0s 24ms/step - loss: 0.0935 - accuracy: 0.9810 - val_loss: 0.0636 - val_accuracy: 1.0000\n",
            "Epoch 21/50\n",
            "4/4 [==============================] - 0s 24ms/step - loss: 0.0980 - accuracy: 0.9714 - val_loss: 0.0724 - val_accuracy: 1.0000\n",
            "Epoch 22/50\n",
            "4/4 [==============================] - 0s 24ms/step - loss: 0.0958 - accuracy: 0.9714 - val_loss: 0.0662 - val_accuracy: 1.0000\n",
            "Epoch 23/50\n",
            "4/4 [==============================] - 0s 22ms/step - loss: 0.0930 - accuracy: 0.9810 - val_loss: 0.0600 - val_accuracy: 1.0000\n",
            "Epoch 24/50\n",
            "4/4 [==============================] - 0s 29ms/step - loss: 0.0931 - accuracy: 0.9714 - val_loss: 0.0578 - val_accuracy: 1.0000\n",
            "Epoch 25/50\n",
            "4/4 [==============================] - 0s 23ms/step - loss: 0.0936 - accuracy: 0.9714 - val_loss: 0.0566 - val_accuracy: 1.0000\n",
            "Epoch 26/50\n",
            "4/4 [==============================] - 0s 17ms/step - loss: 0.0943 - accuracy: 0.9714 - val_loss: 0.0566 - val_accuracy: 1.0000\n",
            "Epoch 27/50\n",
            "4/4 [==============================] - 0s 31ms/step - loss: 0.0933 - accuracy: 0.9714 - val_loss: 0.0570 - val_accuracy: 1.0000\n",
            "Epoch 28/50\n",
            "4/4 [==============================] - 0s 16ms/step - loss: 0.0929 - accuracy: 0.9714 - val_loss: 0.0598 - val_accuracy: 1.0000\n",
            "Epoch 29/50\n",
            "4/4 [==============================] - 0s 36ms/step - loss: 0.0923 - accuracy: 0.9810 - val_loss: 0.0613 - val_accuracy: 1.0000\n",
            "Epoch 30/50\n",
            "4/4 [==============================] - 0s 23ms/step - loss: 0.0917 - accuracy: 0.9905 - val_loss: 0.0664 - val_accuracy: 1.0000\n",
            "Epoch 31/50\n",
            "4/4 [==============================] - 0s 17ms/step - loss: 0.0940 - accuracy: 0.9714 - val_loss: 0.0664 - val_accuracy: 1.0000\n",
            "Epoch 32/50\n",
            "4/4 [==============================] - 0s 49ms/step - loss: 0.0931 - accuracy: 0.9714 - val_loss: 0.0618 - val_accuracy: 1.0000\n",
            "Epoch 33/50\n",
            "4/4 [==============================] - 0s 23ms/step - loss: 0.0929 - accuracy: 0.9714 - val_loss: 0.0593 - val_accuracy: 1.0000\n",
            "Epoch 34/50\n",
            "4/4 [==============================] - 0s 21ms/step - loss: 0.0910 - accuracy: 0.9810 - val_loss: 0.0589 - val_accuracy: 1.0000\n",
            "Epoch 35/50\n",
            "4/4 [==============================] - 0s 42ms/step - loss: 0.0912 - accuracy: 0.9810 - val_loss: 0.0573 - val_accuracy: 1.0000\n",
            "Epoch 36/50\n",
            "4/4 [==============================] - 0s 28ms/step - loss: 0.0910 - accuracy: 0.9714 - val_loss: 0.0568 - val_accuracy: 1.0000\n",
            "Epoch 37/50\n",
            "4/4 [==============================] - 0s 24ms/step - loss: 0.0915 - accuracy: 0.9714 - val_loss: 0.0572 - val_accuracy: 1.0000\n",
            "Epoch 38/50\n",
            "4/4 [==============================] - 0s 39ms/step - loss: 0.0926 - accuracy: 0.9714 - val_loss: 0.0620 - val_accuracy: 1.0000\n",
            "Epoch 39/50\n",
            "4/4 [==============================] - 0s 28ms/step - loss: 0.0915 - accuracy: 0.9810 - val_loss: 0.0618 - val_accuracy: 1.0000\n",
            "Epoch 40/50\n",
            "4/4 [==============================] - 0s 50ms/step - loss: 0.0906 - accuracy: 0.9810 - val_loss: 0.0660 - val_accuracy: 1.0000\n",
            "Epoch 41/50\n",
            "4/4 [==============================] - 0s 31ms/step - loss: 0.0925 - accuracy: 0.9714 - val_loss: 0.0663 - val_accuracy: 1.0000\n",
            "Epoch 42/50\n",
            "4/4 [==============================] - 0s 29ms/step - loss: 0.0905 - accuracy: 0.9810 - val_loss: 0.0575 - val_accuracy: 1.0000\n",
            "Epoch 43/50\n",
            "4/4 [==============================] - 0s 34ms/step - loss: 0.0905 - accuracy: 0.9714 - val_loss: 0.0538 - val_accuracy: 1.0000\n",
            "Epoch 44/50\n",
            "4/4 [==============================] - 0s 40ms/step - loss: 0.0903 - accuracy: 0.9714 - val_loss: 0.0563 - val_accuracy: 1.0000\n",
            "Epoch 45/50\n",
            "4/4 [==============================] - 0s 38ms/step - loss: 0.0906 - accuracy: 0.9810 - val_loss: 0.0650 - val_accuracy: 1.0000\n",
            "Epoch 46/50\n",
            "4/4 [==============================] - 0s 30ms/step - loss: 0.0908 - accuracy: 0.9714 - val_loss: 0.0691 - val_accuracy: 1.0000\n",
            "Epoch 47/50\n",
            "4/4 [==============================] - 0s 51ms/step - loss: 0.0925 - accuracy: 0.9714 - val_loss: 0.0655 - val_accuracy: 1.0000\n",
            "Epoch 48/50\n",
            "4/4 [==============================] - 0s 50ms/step - loss: 0.0908 - accuracy: 0.9810 - val_loss: 0.0573 - val_accuracy: 1.0000\n",
            "Epoch 49/50\n",
            "4/4 [==============================] - 0s 30ms/step - loss: 0.0873 - accuracy: 0.9810 - val_loss: 0.0529 - val_accuracy: 1.0000\n",
            "Epoch 50/50\n",
            "4/4 [==============================] - 0s 29ms/step - loss: 0.0910 - accuracy: 0.9714 - val_loss: 0.0509 - val_accuracy: 1.0000\n"
          ]
        }
      ]
    },
    {
      "cell_type": "code",
      "source": [
        "#在測試集上評估模型\n",
        "loss, acc = model.evaluate(X_test, y_test)\n",
        "print(\"Test loss: {}, Test accuracy: {}\".format(loss, acc))"
      ],
      "metadata": {
        "colab": {
          "base_uri": "https://localhost:8080/"
        },
        "id": "Cvwlo3q-U3FP",
        "outputId": "31f02e8e-aa0c-4ff4-8b40-5de90c5eec93"
      },
      "execution_count": null,
      "outputs": [
        {
          "output_type": "stream",
          "name": "stdout",
          "text": [
            "2/2 [==============================] - 0s 6ms/step - loss: 0.3504 - accuracy: 1.0000\n",
            "Test loss: 0.35035091638565063, Test accuracy: 1.0\n"
          ]
        }
      ]
    },
    {
      "cell_type": "code",
      "source": [
        "import numpy as np\n",
        "\n",
        "#創建一個樣本，其中包含四個特徵（花瓣長度、寬度、萼片長度和寬度）\n",
        "sample = np.array([[5.1, 3.5, 1.4, 0.2]])\n",
        "\n",
        "#將樣本轉為為二維陣列\n",
        "sample = sample.reshape(1, -1)\n",
        "\n",
        "#使用模型對樣本進行預測\n",
        "predictions = model.predict(sample)\n",
        "\n",
        "#輸出預測結果\n",
        "print(predictions)\n",
        "#機率最大的種類\n",
        "print(np.argmax(predictions))"
      ],
      "metadata": {
        "colab": {
          "base_uri": "https://localhost:8080/"
        },
        "id": "IimP5hL0VtbN",
        "outputId": "3177744b-123b-4dc8-e24d-e6eaa81c9bde"
      },
      "execution_count": null,
      "outputs": [
        {
          "output_type": "stream",
          "name": "stdout",
          "text": [
            "1/1 [==============================] - 0s 52ms/step\n",
            "[[0.8955762  0.10177424 0.00264956]]\n",
            "0\n"
          ]
        }
      ]
    },
    {
      "cell_type": "code",
      "source": [
        "!pip install matplotlib"
      ],
      "metadata": {
        "colab": {
          "base_uri": "https://localhost:8080/"
        },
        "id": "nhLVufm8YT9v",
        "outputId": "22cc2e20-43ef-48ab-ea6a-549c903ac63d"
      },
      "execution_count": null,
      "outputs": [
        {
          "output_type": "stream",
          "name": "stdout",
          "text": [
            "Looking in indexes: https://pypi.org/simple, https://us-python.pkg.dev/colab-wheels/public/simple/\n",
            "Requirement already satisfied: matplotlib in /usr/local/lib/python3.8/dist-packages (3.2.2)\n",
            "Requirement already satisfied: cycler>=0.10 in /usr/local/lib/python3.8/dist-packages (from matplotlib) (0.11.0)\n",
            "Requirement already satisfied: kiwisolver>=1.0.1 in /usr/local/lib/python3.8/dist-packages (from matplotlib) (1.4.4)\n",
            "Requirement already satisfied: numpy>=1.11 in /usr/local/lib/python3.8/dist-packages (from matplotlib) (1.21.6)\n",
            "Requirement already satisfied: python-dateutil>=2.1 in /usr/local/lib/python3.8/dist-packages (from matplotlib) (2.8.2)\n",
            "Requirement already satisfied: pyparsing!=2.0.4,!=2.1.2,!=2.1.6,>=2.0.1 in /usr/local/lib/python3.8/dist-packages (from matplotlib) (3.0.9)\n",
            "Requirement already satisfied: six>=1.5 in /usr/local/lib/python3.8/dist-packages (from python-dateutil>=2.1->matplotlib) (1.15.0)\n"
          ]
        }
      ]
    },
    {
      "cell_type": "code",
      "source": [
        "import matplotlib.pyplot as plt\n",
        "from sklearn import datasets\n",
        "\n",
        "iris = datasets.load_iris()\n",
        "X = iris.data\n",
        "y = iris.target\n",
        "\n",
        "\n",
        "fig, ax = plt.subplots()\n",
        "\n",
        "\n",
        "colors = ['red', 'green', 'blue']\n",
        "\n",
        "\n",
        "for i in range(3):\n",
        "    ax.scatter(X[y==i, 0], X[y==i, 1], color=colors[i], label=iris.target_names[i])\n",
        "\n",
        "\n",
        "ax.legend()\n",
        "\n",
        "\n",
        "plt.show()"
      ],
      "metadata": {
        "colab": {
          "base_uri": "https://localhost:8080/",
          "height": 268
        },
        "id": "MkpF_15kkebT",
        "outputId": "790fc45a-9a16-4fd6-f3e9-42ac06925907"
      },
      "execution_count": null,
      "outputs": [
        {
          "output_type": "display_data",
          "data": {
            "text/plain": [
              "<Figure size 432x288 with 1 Axes>"
            ],
            "image/png": "[encoded data removed]"
          },
          "metadata": {
            "needs_background": "light"
          }
        }
      ]
    },
    {
      "cell_type": "code",
      "source": [
        "import matplotlib.pyplot as plt\n",
        "from sklearn import datasets\n",
        "\n",
        "\n",
        "iris = datasets.load_iris()\n",
        "X = iris.data\n",
        "y = iris.target\n",
        "\n",
        "\n",
        "fig, ax = plt.subplots()\n",
        "\n",
        "\n",
        "colors = ['red', 'green', 'blue']\n",
        "markers = ['o', '^', 's']\n",
        "\n",
        "\n",
        "for i in range(3):\n",
        "    ax.plot(X[y==i, 0], X[y==i, 1], color=colors[i], marker=markers[i], label=iris.target_names[i])\n",
        "\n",
        "\n",
        "ax.legend()\n",
        "\n",
        "\n",
        "plt.show()"
      ],
      "metadata": {
        "colab": {
          "base_uri": "https://localhost:8080/",
          "height": 268
        },
        "id": "0PpK2s66kScj",
        "outputId": "d1ac45c7-39b2-48f6-aaf7-84cd1135fb42"
      },
      "execution_count": null,
      "outputs": [
        {
          "output_type": "display_data",
          "data": {
            "text/plain": [
              "<Figure size 432x288 with 1 Axes>"
            ],
            "image/png": "[encoded data removed]"
          },
          "metadata": {
            "needs_background": "light"
          }
        }
      ]
    },
    {
      "cell_type": "code",
      "source": [
        "#繪製損失折線圖\n",
        "import matplotlib.pyplot as plt\n",
        "plt.plot(history.history['loss'])\n",
        "plt.plot(history.history['val_loss'])\n",
        "plt.title('Model loss')\n",
        "plt.ylabel('Loss')\n",
        "plt.xlabel('Epoch')\n",
        "plt.legend(['Train', 'Val'], loc='upper left')\n",
        "plt.show()\n",
        "\n",
        "#繪製準確率折線圖\n",
        "plt.plot(history.history['accuracy'])\n",
        "plt.plot(history.history['val_accuracy'])\n",
        "plt.title('Model accuracy')\n",
        "plt.ylabel('Accuracy')\n",
        "plt.xlabel('Epoch')\n",
        "plt.legend(['Train', 'Val'], loc='upper left')\n",
        "plt.show()"
      ],
      "metadata": {
        "colab": {
          "base_uri": "https://localhost:8080/",
          "height": 573
        },
        "id": "mAEdlMU0ZDg4",
        "outputId": "b82afebe-05b5-46eb-c84a-8915ab3b8d20"
      },
      "execution_count": null,
      "outputs": [
        {
          "output_type": "display_data",
          "data": {
            "text/plain": [
              "<Figure size 432x288 with 1 Axes>"
            ],
            "image/png": "[encoded data removed]"
          },
          "metadata": {
            "needs_background": "light"
          }
        },
        {
          "output_type": "display_data",
          "data": {
            "text/plain": [
              "<Figure size 432x288 with 1 Axes>"
            ],
            "image/png": "[encoded data removed]"
          },
          "metadata": {
            "needs_background": "light"
          }
        }
      ]
    }
  ]
}